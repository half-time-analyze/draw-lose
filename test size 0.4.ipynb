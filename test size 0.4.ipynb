{
 "cells": [
  {
   "cell_type": "code",
   "execution_count": 15,
   "id": "e52b31a8",
   "metadata": {},
   "outputs": [],
   "source": [
    "import pandas as pd\n",
    "from sklearn.linear_model import LogisticRegression\n",
    "from sklearn.model_selection import train_test_split # 데이터셋 분리 작업\n",
    "from sklearn.metrics import confusion_matrix, accuracy_score, precision_score, recall_score, f1_score\n",
    "import statsmodels.api as sm"
   ]
  },
  {
   "cell_type": "code",
   "execution_count": 16,
   "id": "b27ce326",
   "metadata": {},
   "outputs": [
    {
     "data": {
      "text/html": [
       "<div>\n",
       "<style scoped>\n",
       "    .dataframe tbody tr th:only-of-type {\n",
       "        vertical-align: middle;\n",
       "    }\n",
       "\n",
       "    .dataframe tbody tr th {\n",
       "        vertical-align: top;\n",
       "    }\n",
       "\n",
       "    .dataframe thead th {\n",
       "        text-align: right;\n",
       "    }\n",
       "</style>\n",
       "<table border=\"1\" class=\"dataframe\">\n",
       "  <thead>\n",
       "    <tr style=\"text-align: right;\">\n",
       "      <th></th>\n",
       "      <th>homeAway</th>\n",
       "      <th>Ball_Possession_1st_Half</th>\n",
       "      <th>Corners_1st_Half</th>\n",
       "      <th>Fouls_Commited_1st_Half</th>\n",
       "      <th>Goals_1st_Half</th>\n",
       "      <th>Red_Cards_1st_Half</th>\n",
       "      <th>Shots_1st_Half</th>\n",
       "      <th>Shots_On_1st_Half</th>\n",
       "      <th>Yellow_Cards_1st_Half</th>\n",
       "      <th>Result</th>\n",
       "    </tr>\n",
       "  </thead>\n",
       "  <tbody>\n",
       "    <tr>\n",
       "      <th>0</th>\n",
       "      <td>1</td>\n",
       "      <td>45</td>\n",
       "      <td>1</td>\n",
       "      <td>8</td>\n",
       "      <td>0</td>\n",
       "      <td>0</td>\n",
       "      <td>1</td>\n",
       "      <td>1</td>\n",
       "      <td>0</td>\n",
       "      <td>0</td>\n",
       "    </tr>\n",
       "    <tr>\n",
       "      <th>1</th>\n",
       "      <td>1</td>\n",
       "      <td>29</td>\n",
       "      <td>3</td>\n",
       "      <td>5</td>\n",
       "      <td>1</td>\n",
       "      <td>0</td>\n",
       "      <td>2</td>\n",
       "      <td>1</td>\n",
       "      <td>1</td>\n",
       "      <td>1</td>\n",
       "    </tr>\n",
       "    <tr>\n",
       "      <th>2</th>\n",
       "      <td>0</td>\n",
       "      <td>71</td>\n",
       "      <td>1</td>\n",
       "      <td>4</td>\n",
       "      <td>0</td>\n",
       "      <td>0</td>\n",
       "      <td>2</td>\n",
       "      <td>0</td>\n",
       "      <td>0</td>\n",
       "      <td>1</td>\n",
       "    </tr>\n",
       "    <tr>\n",
       "      <th>3</th>\n",
       "      <td>0</td>\n",
       "      <td>42</td>\n",
       "      <td>1</td>\n",
       "      <td>3</td>\n",
       "      <td>1</td>\n",
       "      <td>0</td>\n",
       "      <td>3</td>\n",
       "      <td>1</td>\n",
       "      <td>0</td>\n",
       "      <td>0</td>\n",
       "    </tr>\n",
       "    <tr>\n",
       "      <th>4</th>\n",
       "      <td>0</td>\n",
       "      <td>36</td>\n",
       "      <td>0</td>\n",
       "      <td>8</td>\n",
       "      <td>0</td>\n",
       "      <td>0</td>\n",
       "      <td>1</td>\n",
       "      <td>0</td>\n",
       "      <td>2</td>\n",
       "      <td>0</td>\n",
       "    </tr>\n",
       "    <tr>\n",
       "      <th>...</th>\n",
       "      <td>...</td>\n",
       "      <td>...</td>\n",
       "      <td>...</td>\n",
       "      <td>...</td>\n",
       "      <td>...</td>\n",
       "      <td>...</td>\n",
       "      <td>...</td>\n",
       "      <td>...</td>\n",
       "      <td>...</td>\n",
       "      <td>...</td>\n",
       "    </tr>\n",
       "    <tr>\n",
       "      <th>318</th>\n",
       "      <td>0</td>\n",
       "      <td>34</td>\n",
       "      <td>3</td>\n",
       "      <td>5</td>\n",
       "      <td>0</td>\n",
       "      <td>0</td>\n",
       "      <td>4</td>\n",
       "      <td>2</td>\n",
       "      <td>0</td>\n",
       "      <td>0</td>\n",
       "    </tr>\n",
       "    <tr>\n",
       "      <th>319</th>\n",
       "      <td>0</td>\n",
       "      <td>43</td>\n",
       "      <td>5</td>\n",
       "      <td>7</td>\n",
       "      <td>0</td>\n",
       "      <td>0</td>\n",
       "      <td>8</td>\n",
       "      <td>3</td>\n",
       "      <td>1</td>\n",
       "      <td>0</td>\n",
       "    </tr>\n",
       "    <tr>\n",
       "      <th>320</th>\n",
       "      <td>0</td>\n",
       "      <td>60</td>\n",
       "      <td>2</td>\n",
       "      <td>3</td>\n",
       "      <td>0</td>\n",
       "      <td>0</td>\n",
       "      <td>4</td>\n",
       "      <td>3</td>\n",
       "      <td>1</td>\n",
       "      <td>0</td>\n",
       "    </tr>\n",
       "    <tr>\n",
       "      <th>321</th>\n",
       "      <td>0</td>\n",
       "      <td>42</td>\n",
       "      <td>2</td>\n",
       "      <td>2</td>\n",
       "      <td>0</td>\n",
       "      <td>0</td>\n",
       "      <td>2</td>\n",
       "      <td>1</td>\n",
       "      <td>0</td>\n",
       "      <td>0</td>\n",
       "    </tr>\n",
       "    <tr>\n",
       "      <th>322</th>\n",
       "      <td>0</td>\n",
       "      <td>16</td>\n",
       "      <td>1</td>\n",
       "      <td>6</td>\n",
       "      <td>0</td>\n",
       "      <td>0</td>\n",
       "      <td>2</td>\n",
       "      <td>1</td>\n",
       "      <td>1</td>\n",
       "      <td>0</td>\n",
       "    </tr>\n",
       "  </tbody>\n",
       "</table>\n",
       "<p>323 rows × 10 columns</p>\n",
       "</div>"
      ],
      "text/plain": [
       "     homeAway  Ball_Possession_1st_Half  Corners_1st_Half  \\\n",
       "0           1                        45                 1   \n",
       "1           1                        29                 3   \n",
       "2           0                        71                 1   \n",
       "3           0                        42                 1   \n",
       "4           0                        36                 0   \n",
       "..        ...                       ...               ...   \n",
       "318         0                        34                 3   \n",
       "319         0                        43                 5   \n",
       "320         0                        60                 2   \n",
       "321         0                        42                 2   \n",
       "322         0                        16                 1   \n",
       "\n",
       "     Fouls_Commited_1st_Half  Goals_1st_Half  Red_Cards_1st_Half  \\\n",
       "0                          8               0                   0   \n",
       "1                          5               1                   0   \n",
       "2                          4               0                   0   \n",
       "3                          3               1                   0   \n",
       "4                          8               0                   0   \n",
       "..                       ...             ...                 ...   \n",
       "318                        5               0                   0   \n",
       "319                        7               0                   0   \n",
       "320                        3               0                   0   \n",
       "321                        2               0                   0   \n",
       "322                        6               0                   0   \n",
       "\n",
       "     Shots_1st_Half  Shots_On_1st_Half  Yellow_Cards_1st_Half  Result  \n",
       "0                 1                  1                      0       0  \n",
       "1                 2                  1                      1       1  \n",
       "2                 2                  0                      0       1  \n",
       "3                 3                  1                      0       0  \n",
       "4                 1                  0                      2       0  \n",
       "..              ...                ...                    ...     ...  \n",
       "318               4                  2                      0       0  \n",
       "319               8                  3                      1       0  \n",
       "320               4                  3                      1       0  \n",
       "321               2                  1                      0       0  \n",
       "322               2                  1                      1       0  \n",
       "\n",
       "[323 rows x 10 columns]"
      ]
     },
     "execution_count": 16,
     "metadata": {},
     "output_type": "execute_result"
    }
   ],
   "source": [
    "#데이터 읽어오기\n",
    "total_data = pd.read_csv('C:/Users/irisc/Desktop/3학년 1학기/데이터사이언스/팀 프로젝트/soccer_data.csv', header = 0, engine = 'python')\n",
    "total_data"
   ]
  },
  {
   "cell_type": "code",
   "execution_count": 17,
   "id": "632ffb34",
   "metadata": {},
   "outputs": [],
   "source": [
    "#target을 result로 설정하고, total_data에서 result column을 지워줌\n",
    "target = total_data['Result']\n",
    "total_data = total_data.drop(columns = ['Result'], axis = 1)\n",
    "Y = target\n",
    "X = total_data"
   ]
  },
  {
   "cell_type": "markdown",
   "id": "c2833d13",
   "metadata": {},
   "source": [
    "## test size = 0.4"
   ]
  },
  {
   "cell_type": "code",
   "execution_count": 18,
   "id": "b7aaded8",
   "metadata": {},
   "outputs": [],
   "source": [
    "X_train, X_test, Y_train, Y_test = train_test_split(X, Y, test_size = 0.4, random_state = 0, stratify = Y)"
   ]
  },
  {
   "cell_type": "code",
   "execution_count": 19,
   "id": "55e0bc73",
   "metadata": {},
   "outputs": [
    {
     "name": "stdout",
     "output_type": "stream",
     "text": [
      "(193, 9) (130, 9) (193,) (130,)\n"
     ]
    }
   ],
   "source": [
    "print(X_train.shape, X_test.shape, Y_train.shape, Y_test.shape)"
   ]
  },
  {
   "cell_type": "code",
   "execution_count": 20,
   "id": "051badbf",
   "metadata": {},
   "outputs": [
    {
     "name": "stdout",
     "output_type": "stream",
     "text": [
      "35.75 %\n"
     ]
    }
   ],
   "source": [
    "print(round(sum(Y_train)/len(Y_train)*100, 2), '%')"
   ]
  },
  {
   "cell_type": "code",
   "execution_count": 21,
   "id": "97041632",
   "metadata": {},
   "outputs": [
    {
     "name": "stdout",
     "output_type": "stream",
     "text": [
      "36.15 %\n"
     ]
    }
   ],
   "source": [
    "print(round(sum(Y_test)/len(Y_test)*100, 2), '%')"
   ]
  },
  {
   "cell_type": "code",
   "execution_count": 31,
   "id": "207d350e",
   "metadata": {},
   "outputs": [
    {
     "data": {
      "text/plain": [
       "LogisticRegression(max_iter=10000)"
      ]
     },
     "execution_count": 31,
     "metadata": {},
     "output_type": "execute_result"
    }
   ],
   "source": [
    "lr_soccer_half = LogisticRegression(max_iter=10000)\n",
    "lr_soccer_half.fit(X_train, Y_train)"
   ]
  },
  {
   "cell_type": "code",
   "execution_count": 23,
   "id": "6e81e802",
   "metadata": {},
   "outputs": [],
   "source": [
    "Y_predict = lr_soccer_half.predict(X_test)"
   ]
  },
  {
   "cell_type": "code",
   "execution_count": 24,
   "id": "1fbcc244",
   "metadata": {},
   "outputs": [
    {
     "data": {
      "text/plain": [
       "array([[ 0.64553816,  0.02626648,  0.00381036, -0.02935371,  0.54941048,\n",
       "        -0.58846364,  0.16372929, -0.05364197,  0.41590812]])"
      ]
     },
     "execution_count": 24,
     "metadata": {},
     "output_type": "execute_result"
    }
   ],
   "source": [
    "lr_soccer_half.coef_"
   ]
  },
  {
   "cell_type": "code",
   "execution_count": 25,
   "id": "b73f513d",
   "metadata": {},
   "outputs": [
    {
     "data": {
      "text/plain": [
       "array([-3.01701317])"
      ]
     },
     "execution_count": 25,
     "metadata": {},
     "output_type": "execute_result"
    }
   ],
   "source": [
    "lr_soccer_half.intercept_"
   ]
  },
  {
   "cell_type": "code",
   "execution_count": 26,
   "id": "0c7e14f6",
   "metadata": {},
   "outputs": [
    {
     "data": {
      "text/plain": [
       "array([[74,  9],\n",
       "       [37, 10]], dtype=int64)"
      ]
     },
     "execution_count": 26,
     "metadata": {},
     "output_type": "execute_result"
    }
   ],
   "source": [
    "# 오차행렬 확인 (예측치와 실제값 비교)\n",
    "confusion_matrix(Y_test, Y_predict)"
   ]
  },
  {
   "cell_type": "code",
   "execution_count": 27,
   "id": "c121b29b",
   "metadata": {},
   "outputs": [
    {
     "name": "stdout",
     "output_type": "stream",
     "text": [
      "정확도: 0.646, 정밀도: 0.526, 재현율: 0.213, F1: 0.303\n"
     ]
    }
   ],
   "source": [
    "#정확도, 정밀도, 재현율, F1\n",
    "accuracy = accuracy_score(Y_test, Y_predict)\n",
    "precision = precision_score(Y_test, Y_predict)\n",
    "recall = recall_score(Y_test, Y_predict)\n",
    "f1 = f1_score(Y_test, Y_predict)\n",
    "print('정확도: {0:.3f}, 정밀도: {1:.3f}, 재현율: {2:.3f}, F1: {3:.3f}'.format(accuracy, precision, recall, f1))"
   ]
  },
  {
   "cell_type": "code",
   "execution_count": 28,
   "id": "bd045da6",
   "metadata": {},
   "outputs": [
    {
     "name": "stdout",
     "output_type": "stream",
     "text": [
      "Optimization terminated successfully.\n",
      "         Current function value: 0.616717\n",
      "         Iterations: 9\n",
      "         Function evaluations: 937\n"
     ]
    }
   ],
   "source": [
    "logit_m = sm.Logit(Y_train, X_train)\n",
    "logit_m_train = logit_m.fit(method='powell')"
   ]
  },
  {
   "cell_type": "code",
   "execution_count": 29,
   "id": "2a5de3e8",
   "metadata": {},
   "outputs": [
    {
     "data": {
      "text/html": [
       "<table class=\"simpletable\">\n",
       "<caption>Logit Regression Results</caption>\n",
       "<tr>\n",
       "  <th>Dep. Variable:</th>        <td>Result</td>      <th>  No. Observations:  </th>  <td>   193</td> \n",
       "</tr>\n",
       "<tr>\n",
       "  <th>Model:</th>                 <td>Logit</td>      <th>  Df Residuals:      </th>  <td>   184</td> \n",
       "</tr>\n",
       "<tr>\n",
       "  <th>Method:</th>                 <td>MLE</td>       <th>  Df Model:          </th>  <td>     8</td> \n",
       "</tr>\n",
       "<tr>\n",
       "  <th>Date:</th>            <td>Fri, 19 May 2023</td> <th>  Pseudo R-squ.:     </th>  <td>0.05408</td>\n",
       "</tr>\n",
       "<tr>\n",
       "  <th>Time:</th>                <td>12:44:53</td>     <th>  Log-Likelihood:    </th> <td> -119.03</td>\n",
       "</tr>\n",
       "<tr>\n",
       "  <th>converged:</th>             <td>True</td>       <th>  LL-Null:           </th> <td> -125.83</td>\n",
       "</tr>\n",
       "<tr>\n",
       "  <th>Covariance Type:</th>     <td>nonrobust</td>    <th>  LLR p-value:       </th>  <td>0.09254</td>\n",
       "</tr>\n",
       "</table>\n",
       "<table class=\"simpletable\">\n",
       "<tr>\n",
       "              <td></td>                <th>coef</th>     <th>std err</th>      <th>z</th>      <th>P>|z|</th>  <th>[0.025</th>    <th>0.975]</th>  \n",
       "</tr>\n",
       "<tr>\n",
       "  <th>homeAway</th>                 <td>    0.4350</td> <td>    0.321</td> <td>    1.355</td> <td> 0.175</td> <td>   -0.194</td> <td>    1.064</td>\n",
       "</tr>\n",
       "<tr>\n",
       "  <th>Ball_Possession_1st_Half</th> <td>   -0.0142</td> <td>    0.010</td> <td>   -1.461</td> <td> 0.144</td> <td>   -0.033</td> <td>    0.005</td>\n",
       "</tr>\n",
       "<tr>\n",
       "  <th>Corners_1st_Half</th>         <td>    0.0066</td> <td>    0.100</td> <td>    0.067</td> <td> 0.947</td> <td>   -0.188</td> <td>    0.202</td>\n",
       "</tr>\n",
       "<tr>\n",
       "  <th>Fouls_Commited_1st_Half</th>  <td>   -0.1713</td> <td>    0.068</td> <td>   -2.504</td> <td> 0.012</td> <td>   -0.305</td> <td>   -0.037</td>\n",
       "</tr>\n",
       "<tr>\n",
       "  <th>Goals_1st_Half</th>           <td>    0.5422</td> <td>    0.308</td> <td>    1.762</td> <td> 0.078</td> <td>   -0.061</td> <td>    1.145</td>\n",
       "</tr>\n",
       "<tr>\n",
       "  <th>Red_Cards_1st_Half</th>       <td>  -34.8993</td> <td> 5.99e+06</td> <td>-5.82e-06</td> <td> 1.000</td> <td>-1.17e+07</td> <td> 1.17e+07</td>\n",
       "</tr>\n",
       "<tr>\n",
       "  <th>Shots_1st_Half</th>           <td>    0.1450</td> <td>    0.120</td> <td>    1.213</td> <td> 0.225</td> <td>   -0.089</td> <td>    0.379</td>\n",
       "</tr>\n",
       "<tr>\n",
       "  <th>Shots_On_1st_Half</th>        <td>   -0.1019</td> <td>    0.173</td> <td>   -0.588</td> <td> 0.556</td> <td>   -0.441</td> <td>    0.238</td>\n",
       "</tr>\n",
       "<tr>\n",
       "  <th>Yellow_Cards_1st_Half</th>    <td>    0.4539</td> <td>    0.215</td> <td>    2.108</td> <td> 0.035</td> <td>    0.032</td> <td>    0.876</td>\n",
       "</tr>\n",
       "</table>"
      ],
      "text/plain": [
       "<class 'statsmodels.iolib.summary.Summary'>\n",
       "\"\"\"\n",
       "                           Logit Regression Results                           \n",
       "==============================================================================\n",
       "Dep. Variable:                 Result   No. Observations:                  193\n",
       "Model:                          Logit   Df Residuals:                      184\n",
       "Method:                           MLE   Df Model:                            8\n",
       "Date:                Fri, 19 May 2023   Pseudo R-squ.:                 0.05408\n",
       "Time:                        12:44:53   Log-Likelihood:                -119.03\n",
       "converged:                       True   LL-Null:                       -125.83\n",
       "Covariance Type:            nonrobust   LLR p-value:                   0.09254\n",
       "============================================================================================\n",
       "                               coef    std err          z      P>|z|      [0.025      0.975]\n",
       "--------------------------------------------------------------------------------------------\n",
       "homeAway                     0.4350      0.321      1.355      0.175      -0.194       1.064\n",
       "Ball_Possession_1st_Half    -0.0142      0.010     -1.461      0.144      -0.033       0.005\n",
       "Corners_1st_Half             0.0066      0.100      0.067      0.947      -0.188       0.202\n",
       "Fouls_Commited_1st_Half     -0.1713      0.068     -2.504      0.012      -0.305      -0.037\n",
       "Goals_1st_Half               0.5422      0.308      1.762      0.078      -0.061       1.145\n",
       "Red_Cards_1st_Half         -34.8993   5.99e+06  -5.82e-06      1.000   -1.17e+07    1.17e+07\n",
       "Shots_1st_Half               0.1450      0.120      1.213      0.225      -0.089       0.379\n",
       "Shots_On_1st_Half           -0.1019      0.173     -0.588      0.556      -0.441       0.238\n",
       "Yellow_Cards_1st_Half        0.4539      0.215      2.108      0.035       0.032       0.876\n",
       "============================================================================================\n",
       "\"\"\""
      ]
     },
     "execution_count": 29,
     "metadata": {},
     "output_type": "execute_result"
    }
   ],
   "source": [
    "logit_m_train.summary()"
   ]
  }
 ],
 "metadata": {
  "kernelspec": {
   "display_name": "Python 3 (ipykernel)",
   "language": "python",
   "name": "python3"
  },
  "language_info": {
   "codemirror_mode": {
    "name": "ipython",
    "version": 3
   },
   "file_extension": ".py",
   "mimetype": "text/x-python",
   "name": "python",
   "nbconvert_exporter": "python",
   "pygments_lexer": "ipython3",
   "version": "3.9.7"
  }
 },
 "nbformat": 4,
 "nbformat_minor": 5
}
