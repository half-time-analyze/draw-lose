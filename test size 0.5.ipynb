{
 "cells": [
  {
   "cell_type": "code",
   "execution_count": 26,
   "id": "0d85cf3f",
   "metadata": {},
   "outputs": [],
   "source": [
    "import pandas as pd\n",
    "from sklearn.linear_model import LogisticRegression\n",
    "from sklearn.model_selection import train_test_split # 데이터셋 분리 작업\n",
    "from sklearn.metrics import confusion_matrix, accuracy_score, precision_score, recall_score, f1_score\n",
    "import statsmodels.api as sm"
   ]
  },
  {
   "cell_type": "code",
   "execution_count": 27,
   "id": "6aab19b3",
   "metadata": {},
   "outputs": [
    {
     "data": {
      "text/html": [
       "<div>\n",
       "<style scoped>\n",
       "    .dataframe tbody tr th:only-of-type {\n",
       "        vertical-align: middle;\n",
       "    }\n",
       "\n",
       "    .dataframe tbody tr th {\n",
       "        vertical-align: top;\n",
       "    }\n",
       "\n",
       "    .dataframe thead th {\n",
       "        text-align: right;\n",
       "    }\n",
       "</style>\n",
       "<table border=\"1\" class=\"dataframe\">\n",
       "  <thead>\n",
       "    <tr style=\"text-align: right;\">\n",
       "      <th></th>\n",
       "      <th>homeAway</th>\n",
       "      <th>Ball_Possession_1st_Half</th>\n",
       "      <th>Corners_1st_Half</th>\n",
       "      <th>Fouls_Commited_1st_Half</th>\n",
       "      <th>Goals_1st_Half</th>\n",
       "      <th>Red_Cards_1st_Half</th>\n",
       "      <th>Shots_1st_Half</th>\n",
       "      <th>Shots_On_1st_Half</th>\n",
       "      <th>Yellow_Cards_1st_Half</th>\n",
       "      <th>Result</th>\n",
       "    </tr>\n",
       "  </thead>\n",
       "  <tbody>\n",
       "    <tr>\n",
       "      <th>0</th>\n",
       "      <td>1</td>\n",
       "      <td>45</td>\n",
       "      <td>1</td>\n",
       "      <td>8</td>\n",
       "      <td>0</td>\n",
       "      <td>0</td>\n",
       "      <td>1</td>\n",
       "      <td>1</td>\n",
       "      <td>0</td>\n",
       "      <td>0</td>\n",
       "    </tr>\n",
       "    <tr>\n",
       "      <th>1</th>\n",
       "      <td>1</td>\n",
       "      <td>29</td>\n",
       "      <td>3</td>\n",
       "      <td>5</td>\n",
       "      <td>1</td>\n",
       "      <td>0</td>\n",
       "      <td>2</td>\n",
       "      <td>1</td>\n",
       "      <td>1</td>\n",
       "      <td>1</td>\n",
       "    </tr>\n",
       "    <tr>\n",
       "      <th>2</th>\n",
       "      <td>0</td>\n",
       "      <td>71</td>\n",
       "      <td>1</td>\n",
       "      <td>4</td>\n",
       "      <td>0</td>\n",
       "      <td>0</td>\n",
       "      <td>2</td>\n",
       "      <td>0</td>\n",
       "      <td>0</td>\n",
       "      <td>1</td>\n",
       "    </tr>\n",
       "    <tr>\n",
       "      <th>3</th>\n",
       "      <td>0</td>\n",
       "      <td>42</td>\n",
       "      <td>1</td>\n",
       "      <td>3</td>\n",
       "      <td>1</td>\n",
       "      <td>0</td>\n",
       "      <td>3</td>\n",
       "      <td>1</td>\n",
       "      <td>0</td>\n",
       "      <td>0</td>\n",
       "    </tr>\n",
       "    <tr>\n",
       "      <th>4</th>\n",
       "      <td>0</td>\n",
       "      <td>36</td>\n",
       "      <td>0</td>\n",
       "      <td>8</td>\n",
       "      <td>0</td>\n",
       "      <td>0</td>\n",
       "      <td>1</td>\n",
       "      <td>0</td>\n",
       "      <td>2</td>\n",
       "      <td>0</td>\n",
       "    </tr>\n",
       "    <tr>\n",
       "      <th>...</th>\n",
       "      <td>...</td>\n",
       "      <td>...</td>\n",
       "      <td>...</td>\n",
       "      <td>...</td>\n",
       "      <td>...</td>\n",
       "      <td>...</td>\n",
       "      <td>...</td>\n",
       "      <td>...</td>\n",
       "      <td>...</td>\n",
       "      <td>...</td>\n",
       "    </tr>\n",
       "    <tr>\n",
       "      <th>318</th>\n",
       "      <td>0</td>\n",
       "      <td>34</td>\n",
       "      <td>3</td>\n",
       "      <td>5</td>\n",
       "      <td>0</td>\n",
       "      <td>0</td>\n",
       "      <td>4</td>\n",
       "      <td>2</td>\n",
       "      <td>0</td>\n",
       "      <td>0</td>\n",
       "    </tr>\n",
       "    <tr>\n",
       "      <th>319</th>\n",
       "      <td>0</td>\n",
       "      <td>43</td>\n",
       "      <td>5</td>\n",
       "      <td>7</td>\n",
       "      <td>0</td>\n",
       "      <td>0</td>\n",
       "      <td>8</td>\n",
       "      <td>3</td>\n",
       "      <td>1</td>\n",
       "      <td>0</td>\n",
       "    </tr>\n",
       "    <tr>\n",
       "      <th>320</th>\n",
       "      <td>0</td>\n",
       "      <td>60</td>\n",
       "      <td>2</td>\n",
       "      <td>3</td>\n",
       "      <td>0</td>\n",
       "      <td>0</td>\n",
       "      <td>4</td>\n",
       "      <td>3</td>\n",
       "      <td>1</td>\n",
       "      <td>0</td>\n",
       "    </tr>\n",
       "    <tr>\n",
       "      <th>321</th>\n",
       "      <td>0</td>\n",
       "      <td>42</td>\n",
       "      <td>2</td>\n",
       "      <td>2</td>\n",
       "      <td>0</td>\n",
       "      <td>0</td>\n",
       "      <td>2</td>\n",
       "      <td>1</td>\n",
       "      <td>0</td>\n",
       "      <td>0</td>\n",
       "    </tr>\n",
       "    <tr>\n",
       "      <th>322</th>\n",
       "      <td>0</td>\n",
       "      <td>16</td>\n",
       "      <td>1</td>\n",
       "      <td>6</td>\n",
       "      <td>0</td>\n",
       "      <td>0</td>\n",
       "      <td>2</td>\n",
       "      <td>1</td>\n",
       "      <td>1</td>\n",
       "      <td>0</td>\n",
       "    </tr>\n",
       "  </tbody>\n",
       "</table>\n",
       "<p>323 rows × 10 columns</p>\n",
       "</div>"
      ],
      "text/plain": [
       "     homeAway  Ball_Possession_1st_Half  Corners_1st_Half  \\\n",
       "0           1                        45                 1   \n",
       "1           1                        29                 3   \n",
       "2           0                        71                 1   \n",
       "3           0                        42                 1   \n",
       "4           0                        36                 0   \n",
       "..        ...                       ...               ...   \n",
       "318         0                        34                 3   \n",
       "319         0                        43                 5   \n",
       "320         0                        60                 2   \n",
       "321         0                        42                 2   \n",
       "322         0                        16                 1   \n",
       "\n",
       "     Fouls_Commited_1st_Half  Goals_1st_Half  Red_Cards_1st_Half  \\\n",
       "0                          8               0                   0   \n",
       "1                          5               1                   0   \n",
       "2                          4               0                   0   \n",
       "3                          3               1                   0   \n",
       "4                          8               0                   0   \n",
       "..                       ...             ...                 ...   \n",
       "318                        5               0                   0   \n",
       "319                        7               0                   0   \n",
       "320                        3               0                   0   \n",
       "321                        2               0                   0   \n",
       "322                        6               0                   0   \n",
       "\n",
       "     Shots_1st_Half  Shots_On_1st_Half  Yellow_Cards_1st_Half  Result  \n",
       "0                 1                  1                      0       0  \n",
       "1                 2                  1                      1       1  \n",
       "2                 2                  0                      0       1  \n",
       "3                 3                  1                      0       0  \n",
       "4                 1                  0                      2       0  \n",
       "..              ...                ...                    ...     ...  \n",
       "318               4                  2                      0       0  \n",
       "319               8                  3                      1       0  \n",
       "320               4                  3                      1       0  \n",
       "321               2                  1                      0       0  \n",
       "322               2                  1                      1       0  \n",
       "\n",
       "[323 rows x 10 columns]"
      ]
     },
     "execution_count": 27,
     "metadata": {},
     "output_type": "execute_result"
    }
   ],
   "source": [
    "#데이터 읽어오기\n",
    "total_data = pd.read_csv('C:/Users/irisc/Desktop/3학년 1학기/데이터사이언스/팀 프로젝트/soccer_data.csv', header = 0, engine = 'python')\n",
    "total_data"
   ]
  },
  {
   "cell_type": "code",
   "execution_count": 28,
   "id": "060e0107",
   "metadata": {},
   "outputs": [],
   "source": [
    "#target을 result로 설정하고, total_data에서 result column을 지워줌\n",
    "target = total_data['Result']\n",
    "total_data = total_data.drop(columns = ['Result'], axis = 1)\n",
    "Y = target\n",
    "X = total_data"
   ]
  },
  {
   "cell_type": "markdown",
   "id": "0d03672a",
   "metadata": {},
   "source": [
    "## test size = 0.5 "
   ]
  },
  {
   "cell_type": "code",
   "execution_count": 29,
   "id": "397c6df9",
   "metadata": {},
   "outputs": [],
   "source": [
    "X_train, X_test, Y_train, Y_test = train_test_split(X, Y, test_size = 0.5, random_state = 0, stratify = Y)"
   ]
  },
  {
   "cell_type": "code",
   "execution_count": 30,
   "id": "7d6aa7a4",
   "metadata": {},
   "outputs": [
    {
     "name": "stdout",
     "output_type": "stream",
     "text": [
      "(161, 9) (162, 9) (161,) (162,)\n"
     ]
    }
   ],
   "source": [
    "print(X_train.shape, X_test.shape, Y_train.shape, Y_test.shape)"
   ]
  },
  {
   "cell_type": "code",
   "execution_count": 31,
   "id": "16bfc805",
   "metadata": {},
   "outputs": [
    {
     "name": "stdout",
     "output_type": "stream",
     "text": [
      "36.02 %\n"
     ]
    }
   ],
   "source": [
    "print(round(sum(Y_train)/len(Y_train)*100, 2), '%')"
   ]
  },
  {
   "cell_type": "code",
   "execution_count": 32,
   "id": "a528a9dd",
   "metadata": {},
   "outputs": [
    {
     "name": "stdout",
     "output_type": "stream",
     "text": [
      "35.8 %\n"
     ]
    }
   ],
   "source": [
    "print(round(sum(Y_test)/len(Y_test)*100, 2), '%')"
   ]
  },
  {
   "cell_type": "code",
   "execution_count": 33,
   "id": "d832f7fb",
   "metadata": {},
   "outputs": [
    {
     "data": {
      "text/plain": [
       "LogisticRegression(max_iter=10000)"
      ]
     },
     "execution_count": 33,
     "metadata": {},
     "output_type": "execute_result"
    }
   ],
   "source": [
    "lr_soccer_half = LogisticRegression(max_iter=10000) #max_iter 확인\n",
    "lr_soccer_half.fit(X_train, Y_train)"
   ]
  },
  {
   "cell_type": "code",
   "execution_count": 34,
   "id": "df0d8632",
   "metadata": {},
   "outputs": [],
   "source": [
    "Y_predict = lr_soccer_half.predict(X_test)"
   ]
  },
  {
   "cell_type": "code",
   "execution_count": 35,
   "id": "0b93e1c6",
   "metadata": {},
   "outputs": [
    {
     "data": {
      "text/plain": [
       "array([[ 0.47340476,  0.03678677,  0.02764795, -0.03355032,  0.56658161,\n",
       "        -0.42836239,  0.17822747, -0.0068625 ,  0.41122487]])"
      ]
     },
     "execution_count": 35,
     "metadata": {},
     "output_type": "execute_result"
    }
   ],
   "source": [
    "lr_soccer_half.coef_"
   ]
  },
  {
   "cell_type": "code",
   "execution_count": 36,
   "id": "5d0db614",
   "metadata": {},
   "outputs": [
    {
     "data": {
      "text/plain": [
       "array([-3.5914245])"
      ]
     },
     "execution_count": 36,
     "metadata": {},
     "output_type": "execute_result"
    }
   ],
   "source": [
    "lr_soccer_half.intercept_"
   ]
  },
  {
   "cell_type": "code",
   "execution_count": 37,
   "id": "5e54802c",
   "metadata": {},
   "outputs": [
    {
     "data": {
      "text/plain": [
       "array([[85, 19],\n",
       "       [39, 19]], dtype=int64)"
      ]
     },
     "execution_count": 37,
     "metadata": {},
     "output_type": "execute_result"
    }
   ],
   "source": [
    "# 오차행렬 확인 (예측치와 실제값 비교)\n",
    "confusion_matrix(Y_test, Y_predict)"
   ]
  },
  {
   "cell_type": "code",
   "execution_count": 38,
   "id": "84d426ed",
   "metadata": {},
   "outputs": [
    {
     "name": "stdout",
     "output_type": "stream",
     "text": [
      "정확도: 0.642, 정밀도: 0.500, 재현율: 0.328, F1: 0.396\n"
     ]
    }
   ],
   "source": [
    "#정확도, 정밀도, 재현율, F1\n",
    "accuracy = accuracy_score(Y_test, Y_predict)\n",
    "precision = precision_score(Y_test, Y_predict)\n",
    "recall = recall_score(Y_test, Y_predict)\n",
    "f1 = f1_score(Y_test, Y_predict)\n",
    "print('정확도: {0:.3f}, 정밀도: {1:.3f}, 재현율: {2:.3f}, F1: {3:.3f}'.format(accuracy, precision, recall, f1))"
   ]
  },
  {
   "cell_type": "code",
   "execution_count": 39,
   "id": "080a6e4c",
   "metadata": {},
   "outputs": [
    {
     "name": "stdout",
     "output_type": "stream",
     "text": [
      "Optimization terminated successfully.\n",
      "         Current function value: 0.616739\n",
      "         Iterations: 10\n",
      "         Function evaluations: 1053\n"
     ]
    },
    {
     "name": "stderr",
     "output_type": "stream",
     "text": [
      "C:\\ProgramData\\Anaconda3\\lib\\site-packages\\statsmodels\\base\\model.py:547: HessianInversionWarning: Inverting hessian failed, no bse or cov_params available\n",
      "  warnings.warn('Inverting hessian failed, no bse or cov_params '\n"
     ]
    }
   ],
   "source": [
    "logit_m = sm.Logit(Y_train, X_train)\n",
    "logit_m_train = logit_m.fit(method='powell')"
   ]
  },
  {
   "cell_type": "code",
   "execution_count": 40,
   "id": "9cbed5c7",
   "metadata": {},
   "outputs": [
    {
     "data": {
      "text/html": [
       "<table class=\"simpletable\">\n",
       "<caption>Logit Regression Results</caption>\n",
       "<tr>\n",
       "  <th>Dep. Variable:</th>        <td>Result</td>      <th>  No. Observations:  </th>  <td>   161</td> \n",
       "</tr>\n",
       "<tr>\n",
       "  <th>Model:</th>                 <td>Logit</td>      <th>  Df Residuals:      </th>  <td>   152</td> \n",
       "</tr>\n",
       "<tr>\n",
       "  <th>Method:</th>                 <td>MLE</td>       <th>  Df Model:          </th>  <td>     8</td> \n",
       "</tr>\n",
       "<tr>\n",
       "  <th>Date:</th>            <td>Fri, 19 May 2023</td> <th>  Pseudo R-squ.:     </th>  <td>0.05634</td>\n",
       "</tr>\n",
       "<tr>\n",
       "  <th>Time:</th>                <td>12:39:10</td>     <th>  Log-Likelihood:    </th> <td> -99.295</td>\n",
       "</tr>\n",
       "<tr>\n",
       "  <th>converged:</th>             <td>True</td>       <th>  LL-Null:           </th> <td> -105.22</td>\n",
       "</tr>\n",
       "<tr>\n",
       "  <th>Covariance Type:</th>     <td>nonrobust</td>    <th>  LLR p-value:       </th>  <td>0.1577</td> \n",
       "</tr>\n",
       "</table>\n",
       "<table class=\"simpletable\">\n",
       "<tr>\n",
       "              <td></td>                <th>coef</th>     <th>std err</th>      <th>z</th>      <th>P>|z|</th>  <th>[0.025</th>    <th>0.975]</th>  \n",
       "</tr>\n",
       "<tr>\n",
       "  <th>homeAway</th>                 <td>    0.2184</td> <td>      nan</td> <td>      nan</td> <td>   nan</td> <td>      nan</td> <td>      nan</td>\n",
       "</tr>\n",
       "<tr>\n",
       "  <th>Ball_Possession_1st_Half</th> <td>   -0.0102</td> <td>      nan</td> <td>      nan</td> <td>   nan</td> <td>      nan</td> <td>      nan</td>\n",
       "</tr>\n",
       "<tr>\n",
       "  <th>Corners_1st_Half</th>         <td>    0.0149</td> <td>      nan</td> <td>      nan</td> <td>   nan</td> <td>      nan</td> <td>      nan</td>\n",
       "</tr>\n",
       "<tr>\n",
       "  <th>Fouls_Commited_1st_Half</th>  <td>   -0.2132</td> <td>      nan</td> <td>      nan</td> <td>   nan</td> <td>      nan</td> <td>      nan</td>\n",
       "</tr>\n",
       "<tr>\n",
       "  <th>Goals_1st_Half</th>           <td>    0.4715</td> <td>      nan</td> <td>      nan</td> <td>   nan</td> <td>      nan</td> <td>      nan</td>\n",
       "</tr>\n",
       "<tr>\n",
       "  <th>Red_Cards_1st_Half</th>       <td>  -44.0959</td> <td>      nan</td> <td>      nan</td> <td>   nan</td> <td>      nan</td> <td>      nan</td>\n",
       "</tr>\n",
       "<tr>\n",
       "  <th>Shots_1st_Half</th>           <td>    0.1459</td> <td>      nan</td> <td>      nan</td> <td>   nan</td> <td>      nan</td> <td>      nan</td>\n",
       "</tr>\n",
       "<tr>\n",
       "  <th>Shots_On_1st_Half</th>        <td>   -0.0595</td> <td>      nan</td> <td>      nan</td> <td>   nan</td> <td>      nan</td> <td>      nan</td>\n",
       "</tr>\n",
       "<tr>\n",
       "  <th>Yellow_Cards_1st_Half</th>    <td>    0.5020</td> <td>      nan</td> <td>      nan</td> <td>   nan</td> <td>      nan</td> <td>      nan</td>\n",
       "</tr>\n",
       "</table>"
      ],
      "text/plain": [
       "<class 'statsmodels.iolib.summary.Summary'>\n",
       "\"\"\"\n",
       "                           Logit Regression Results                           \n",
       "==============================================================================\n",
       "Dep. Variable:                 Result   No. Observations:                  161\n",
       "Model:                          Logit   Df Residuals:                      152\n",
       "Method:                           MLE   Df Model:                            8\n",
       "Date:                Fri, 19 May 2023   Pseudo R-squ.:                 0.05634\n",
       "Time:                        12:39:10   Log-Likelihood:                -99.295\n",
       "converged:                       True   LL-Null:                       -105.22\n",
       "Covariance Type:            nonrobust   LLR p-value:                    0.1577\n",
       "============================================================================================\n",
       "                               coef    std err          z      P>|z|      [0.025      0.975]\n",
       "--------------------------------------------------------------------------------------------\n",
       "homeAway                     0.2184        nan        nan        nan         nan         nan\n",
       "Ball_Possession_1st_Half    -0.0102        nan        nan        nan         nan         nan\n",
       "Corners_1st_Half             0.0149        nan        nan        nan         nan         nan\n",
       "Fouls_Commited_1st_Half     -0.2132        nan        nan        nan         nan         nan\n",
       "Goals_1st_Half               0.4715        nan        nan        nan         nan         nan\n",
       "Red_Cards_1st_Half         -44.0959        nan        nan        nan         nan         nan\n",
       "Shots_1st_Half               0.1459        nan        nan        nan         nan         nan\n",
       "Shots_On_1st_Half           -0.0595        nan        nan        nan         nan         nan\n",
       "Yellow_Cards_1st_Half        0.5020        nan        nan        nan         nan         nan\n",
       "============================================================================================\n",
       "\"\"\""
      ]
     },
     "execution_count": 40,
     "metadata": {},
     "output_type": "execute_result"
    }
   ],
   "source": [
    "logit_m_train.summary()"
   ]
  },
  {
   "cell_type": "code",
   "execution_count": null,
   "id": "d77e58d3",
   "metadata": {},
   "outputs": [],
   "source": []
  }
 ],
 "metadata": {
  "kernelspec": {
   "display_name": "Python 3 (ipykernel)",
   "language": "python",
   "name": "python3"
  },
  "language_info": {
   "codemirror_mode": {
    "name": "ipython",
    "version": 3
   },
   "file_extension": ".py",
   "mimetype": "text/x-python",
   "name": "python",
   "nbconvert_exporter": "python",
   "pygments_lexer": "ipython3",
   "version": "3.9.7"
  }
 },
 "nbformat": 4,
 "nbformat_minor": 5
}
